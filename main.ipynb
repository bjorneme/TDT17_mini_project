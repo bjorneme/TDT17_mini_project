{
 "cells": [
  {
   "cell_type": "code",
   "execution_count": 4,
   "metadata": {},
   "outputs": [],
   "source": [
    "import numpy as np\n",
    "import os\n",
    "import zipfile"
   ]
  },
  {
   "cell_type": "markdown",
   "metadata": {},
   "source": [
    "# **Step 1: Load Data**"
   ]
  },
  {
   "cell_type": "code",
   "execution_count": 5,
   "metadata": {},
   "outputs": [
    {
     "name": "stdout",
     "output_type": "stream",
     "text": [
      "Extraction complete.\n"
     ]
    }
   ],
   "source": [
    "# Define paths\n",
    "data_path = '/cluster/projects/vc/data/mic/open/HNTS-MRG'\n",
    "zip_file = os.path.join(data_path, 'HNTSMRG24_train.zip')\n",
    "\n",
    "# Path to save extracted files\n",
    "extracted_path = '/cluster/home/bjorneme/projects/tdt17_mini_project/TDT17_mini_project/'\n",
    "\n",
    "# Create extraction directory if it doesn't exist\n",
    "os.makedirs(extracted_path, exist_ok=True)\n",
    "\n",
    "# Unzip the dataset into the specified directory\n",
    "with zipfile.ZipFile(zip_file, 'r') as zip_ref:\n",
    "    zip_ref.extractall(extracted_path)\n",
    "\n",
    "print(\"Extraction complete.\")"
   ]
  },
  {
   "cell_type": "code",
   "execution_count": 7,
   "metadata": {},
   "outputs": [
    {
     "name": "stdout",
     "output_type": "stream",
     "text": [
      "Total patients extracted: 150\n"
     ]
    }
   ],
   "source": [
    "# Path to the training data\n",
    "train_dir = os.path.join(extracted_path, 'HNTSMRG24_train')\n",
    "\n",
    "# List all patient folders\n",
    "patient_folders = os.listdir(train_dir)\n",
    "print(f\"Total patients extracted: {len(patient_folders)}\")"
   ]
  },
  {
   "cell_type": "markdown",
   "metadata": {},
   "source": [
    "# **Step 2: Exploratory Data Analysis**"
   ]
  },
  {
   "cell_type": "markdown",
   "metadata": {},
   "source": []
  }
 ],
 "metadata": {
  "kernelspec": {
   "display_name": "Python 3",
   "language": "python",
   "name": "python3"
  },
  "language_info": {
   "codemirror_mode": {
    "name": "ipython",
    "version": 3
   },
   "file_extension": ".py",
   "mimetype": "text/x-python",
   "name": "python",
   "nbconvert_exporter": "python",
   "pygments_lexer": "ipython3",
   "version": "3.11.10"
  },
  "orig_nbformat": 4
 },
 "nbformat": 4,
 "nbformat_minor": 2
}
